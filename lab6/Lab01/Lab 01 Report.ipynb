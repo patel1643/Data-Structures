{
 "cells": [
  {
   "cell_type": "markdown",
   "metadata": {},
   "source": [
    "# CPS305 Fall 2019\n",
    "## Lab $01$ Report\n",
    "## Parth Patel, Std ID 500893723\n",
    "\n",
    "13 Sept 2019\n",
    "\n",
    "# Introduction and Overall Comments\n",
    "\n",
    "This is the submission of Parth Patel. I think this lab was way too hard. Please go easy on us in the future."
   ]
  },
  {
   "cell_type": "markdown",
   "metadata": {},
   "source": [
    "## Solution for exercise 1"
   ]
  },
  {
   "cell_type": "code",
   "execution_count": 5,
   "metadata": {},
   "outputs": [],
   "source": [
    "# Python code and its output"
   ]
  },
  {
   "cell_type": "markdown",
   "metadata": {},
   "source": [
    "**Discussion of the Results**\n",
    "\n",
    "..."
   ]
  },
  {
   "cell_type": "markdown",
   "metadata": {},
   "source": [
    "## Solution for Exercise 2"
   ]
  },
  {
   "cell_type": "code",
   "execution_count": 8,
   "metadata": {},
   "outputs": [
    {
     "name": "stdout",
     "output_type": "stream",
     "text": [
      "Word                         tries Score\n",
      "mzymaneasotsrmvrtmzsyphzavfo 100   14.3\n",
      "methigkjrdarcmt pfiryeoshxnx 200   21.4\n",
      "methinkssaafhkloutlovmjtiref 300   32.1\n",
      "methinks it iitrrcbicqwftqwd 400   50.0\n",
      "methinks it is ljlghx iqbcdv 500   60.7\n",
      "methinks it is like amnzhnwb 600   75.0\n",
      "methinks it is like a wpvvlr 700   82.1\n",
      "methinks it is like a wexyby 800   85.7\n",
      "methinks it is like a weamcl 900   92.9\n",
      "methinks it is like a weasel 983   100.0\n"
     ]
    },
    {
     "data": {
      "text/plain": [
       "<Figure size 640x480 with 1 Axes>"
      ]
     },
     "metadata": {},
     "output_type": "display_data"
    }
   ],
   "source": [
    "import random\n",
    "from matplotlib import pyplot as plt \n",
    "\n",
    "\n",
    "def generate(lenS, lenA, alphabets):\n",
    "   res = []\n",
    "   for i in range(lenS):\n",
    "      res = res + list(alphabets[random.randrange(len(alphabets))])\n",
    "   ret = ''.join(res)\n",
    "   return ret\n",
    "   \n",
    "   \n",
    "def calcScore(newStr, targetStr):\n",
    "   count = 0\n",
    "   for x in range(len(newStr)):\n",
    "      if (newStr[x] == targetStr[x]):\n",
    "         count = count + 1\n",
    "   result = (count/28)*100\n",
    "   return result\n",
    "   \n",
    "   \n",
    "def monkeyTypist():\n",
    "   target = list(\"methinks it is like a weasel\")\n",
    "   tstr=\"methinks it is like a weasel\"\n",
    "   lenS = len(target)\n",
    "   alphabet = list(\"abcdefghijklmnopqrstuvwxyz \")\n",
    "   lenA = len(alphabet)\n",
    "   bestStr = generate(lenS, lenA, alphabet)\n",
    "   bestScore = calcScore(bestStr, target)\n",
    "   data={}\n",
    "   tries=0\n",
    "   tries_temp=100\n",
    "   x_values=[]\n",
    "   y_values=[]\n",
    "   plt.xlabel('iteration')\n",
    "   plt.ylabel('Scores')    \n",
    "   for x in range(lenS):\n",
    "      if target[x]==bestStr[x]:\n",
    "         pass\n",
    "      else:\n",
    "         while target[x]!=bestStr[x]:\n",
    "            bestStr=bestStr[0:x]+generate(lenS-x,lenA,alphabet)\n",
    "            tries=tries+1\n",
    "            if tries==tries_temp:\n",
    "               data[tries]=[bestStr,calcScore(bestStr,target)]\n",
    "               tries_temp=tries_temp+100\n",
    "         x_values.append(tries)\n",
    "         y_values.append(calcScore(bestStr,target))\n",
    "   \n",
    "   data[tries]=[bestStr,100.0]\n",
    "   print('Word                        ','tries','Score')\n",
    "   for key in data.keys():\n",
    "      print(data[key][0],key,' ',round(data[key][1],1))\n",
    "   \n",
    "   plt.scatter(x_values,y_values) \n",
    "   plt.show() \n",
    "   \n",
    "   \n",
    "\n",
    "monkeyTypist()\n"
   ]
  },
  {
   "cell_type": "markdown",
   "metadata": {},
   "source": [
    "**Discussion of the Results**\n",
    "\n",
    "..."
   ]
  }
 ],
 "metadata": {
  "kernelspec": {
   "display_name": "Python 3",
   "language": "python",
   "name": "python3"
  },
  "language_info": {
   "codemirror_mode": {
    "name": "ipython",
    "version": 3
   },
   "file_extension": ".py",
   "mimetype": "text/x-python",
   "name": "python",
   "nbconvert_exporter": "python",
   "pygments_lexer": "ipython3",
   "version": "3.7.3"
  },
  "latex_envs": {
   "LaTeX_envs_menu_present": true,
   "autoclose": false,
   "autocomplete": true,
   "bibliofile": "biblio.bib",
   "cite_by": "apalike",
   "current_citInitial": 1,
   "eqLabelWithNumbers": true,
   "eqNumInitial": 1,
   "hotkeys": {
    "equation": "Ctrl-E",
    "itemize": "Ctrl-I"
   },
   "labels_anchors": false,
   "latex_user_defs": false,
   "report_style_numbering": false,
   "user_envs_cfg": false
  }
 },
 "nbformat": 4,
 "nbformat_minor": 2
}
