{
 "cells": [
  {
   "cell_type": "markdown",
   "metadata": {},
   "source": [
    "# CPS305 Fall 2019\n",
    "## Lab $06$ Report\n",
    "## Parth Patel, Std ID 500890698\n",
    "\n",
    "26 October 2019\n",
    "\n",
    "# Introduction and Overall Comments\n",
    "\n",
    "This is the submission of Lab 06."
   ]
  },
  {
   "cell_type": "markdown",
   "metadata": {},
   "source": [
    "## Answers for exercise 1 "
   ]
  },
  {
   "cell_type": "code",
   "execution_count": 3,
   "metadata": {},
   "outputs": [
    {
     "ename": "SyntaxError",
     "evalue": "invalid syntax (<timeit-src>, line 1)",
     "output_type": "error",
     "traceback": [
      "Traceback \u001b[1;36m(most recent call last)\u001b[0m:\n",
      "  File \u001b[0;32m\"c:\\users\\parth\\appdata\\local\\programs\\python\\python37\\lib\\site-packages\\IPython\\core\\interactiveshell.py\"\u001b[0m, line \u001b[0;32m3326\u001b[0m, in \u001b[0;35mrun_code\u001b[0m\n    exec(code_obj, self.user_global_ns, self.user_ns)\n",
      "  File \u001b[0;32m\"<ipython-input-3-38610ebaa4a9>\"\u001b[0m, line \u001b[0;32m21\u001b[0m, in \u001b[0;35m<module>\u001b[0m\n    qsTime = timeit.Timer(\"quickSort(listA)\", \"from __main__ import listA, form sorting import quickSort\")\n",
      "\u001b[1;36m  File \u001b[1;32m\"c:\\users\\parth\\appdata\\local\\programs\\python\\python37\\lib\\timeit.py\"\u001b[1;36m, line \u001b[1;32m109\u001b[1;36m, in \u001b[1;35m__init__\u001b[1;36m\u001b[0m\n\u001b[1;33m    compile(setup, dummy_src_name, \"exec\")\u001b[0m\n",
      "\u001b[1;36m  File \u001b[1;32m\"<timeit-src>\"\u001b[1;36m, line \u001b[1;32m1\u001b[0m\n\u001b[1;33m    from __main__ import listA, form sorting import quickSort\u001b[0m\n\u001b[1;37m                                           ^\u001b[0m\n\u001b[1;31mSyntaxError\u001b[0m\u001b[1;31m:\u001b[0m invalid syntax\n"
     ]
    }
   ],
   "source": [
    "import timeit\n",
    "import random\n",
    "import matplotlib.pyplot as plt\n",
    "from sorting import __init__\n",
    "\n",
    "timesQS = []\n",
    "timesMO3 = []\n",
    "listSize = []\n",
    "        \n",
    "def plotGraph(listSize,timesQS,timesMO3):\n",
    "    plt.scatter(listSize, timesQS, marker='+', c='r', label = \"quicksort\")\n",
    "    plt.scatter(listSize, timesMO3, marker='|', c='b', label = \"mo3_quicksort\")\n",
    "    plt.ylabel(\"Time(Seconds)\")\n",
    "    plt.xlabel(\"List Size\")\n",
    "    plt.xlim(-100,100000)\n",
    "    plt.legend()\n",
    "    plt.show()\n",
    "\n",
    "for i in range(0, 100000, 5000):\n",
    "    listA = [random.randint(0,i) for x in range(i+1)]\n",
    "    qsTime = timeit.Timer(\"quickSort(listA)\", \"from __main__ import listA, form __init__ import quickSort\")\n",
    "    mo3Time = timeit.Timer(\"mo3_quickSort(listA)\", \"from __main__ import listA, from sorting import mo3_quickSort\")\n",
    "    timesQS.append(qsTime.timeit(number=1))\n",
    "    timesMO3.append(mo3Time.timeit(number=1))\n",
    "    listSize.append(i)\n",
    "plotGraph(listSize,timesQS,timesMO3)"
   ]
  },
  {
   "cell_type": "markdown",
   "metadata": {},
   "source": [
    "**Discussion of the Results**\n",
    "1. I found median of the the middle, first and last numbers in the list by storing them in a list and sorting it. Then I took the second value in the list and made it the pivot value. Then I checked to make sure the pivot value was at the start of the list(if the pivot was set to the middle or last values). The graph shows that quicksort and mo3_quicksort take approximately the same amount of time regardless of the size of the list. mo3_quicksort just makes it so that you don't hit the worse case scenario of n^2 as often."
   ]
  },
  {
   "cell_type": "code",
   "execution_count": null,
   "metadata": {},
   "outputs": [],
   "source": []
  }
 ],
 "metadata": {
  "kernelspec": {
   "display_name": "Python 3",
   "language": "python",
   "name": "python3"
  },
  "language_info": {
   "codemirror_mode": {
    "name": "ipython",
    "version": 3
   },
   "file_extension": ".py",
   "mimetype": "text/x-python",
   "name": "python",
   "nbconvert_exporter": "python",
   "pygments_lexer": "ipython3",
   "version": "3.7.4"
  },
  "latex_envs": {
   "LaTeX_envs_menu_present": true,
   "autoclose": false,
   "autocomplete": true,
   "bibliofile": "biblio.bib",
   "cite_by": "apalike",
   "current_citInitial": 1,
   "eqLabelWithNumbers": true,
   "eqNumInitial": 1,
   "hotkeys": {
    "equation": "Ctrl-E",
    "itemize": "Ctrl-I"
   },
   "labels_anchors": false,
   "latex_user_defs": false,
   "report_style_numbering": false,
   "user_envs_cfg": false
  }
 },
 "nbformat": 4,
 "nbformat_minor": 2
}
