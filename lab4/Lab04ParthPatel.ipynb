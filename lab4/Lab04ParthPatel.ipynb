{
 "cells": [
  {
   "cell_type": "markdown",
   "metadata": {},
   "source": [
    "# CPS305 Fall 2019\n",
    "## Lab $04$ Report\n",
    "## Parth Patel, Std ID 500893723\n",
    "\n",
    "03 Oct 2019\n",
    "\n",
    "# Introduction and Overall Comments\n",
    "\n",
    "This is the submission of Parth Patel."
   ]
  },
  {
   "cell_type": "markdown",
   "metadata": {},
   "source": [
    "## Solution for exercise 1"
   ]
  },
  {
   "cell_type": "code",
   "execution_count": 1,
   "metadata": {},
   "outputs": [],
   "source": [
    "import turtle, random\n",
    "\n",
    "def tree(branchLen,t):\n",
    "    \n",
    "    if branchLen > 5:\n",
    "        t.width(branchLen/10)\n",
    "        if branchLen > 15:\n",
    "            t.color(\"brown\")\n",
    "        if branchLen <= 15:\n",
    "            t.color(\"green\")       \n",
    "        len1 = random.randrange(10,15)\n",
    "        len2 = random.randrange(10,15)\n",
    "        langle = random.randrange(15,40)\n",
    "        rangle = random.randrange(15,40)\n",
    "        t.forward(branchLen)\n",
    "        t.right(rangle)\n",
    "        tree(branchLen-len2 ,t)\n",
    "        t.left(langle + rangle)\n",
    "        tree(branchLen-len1,t)\n",
    "        t.right(langle)\n",
    "        t.backward(branchLen)\n",
    "        \n",
    "\n",
    "def main():\n",
    "    t = turtle.Turtle()\n",
    "    myWin = turtle.Screen()\n",
    "    t.left(90)\n",
    "    t.up()\n",
    "    t.backward(100)\n",
    "    t.down()\n",
    "    t.color(\"brown\")\n",
    "    tree(85,t)\n",
    "    myWin.exitonclick()\n",
    "\n",
    "main()\n"
   ]
  },
  {
   "cell_type": "markdown",
   "metadata": {},
   "source": [
    "## Solution for exercise 2"
   ]
  },
  {
   "cell_type": "code",
   "execution_count": null,
   "metadata": {
    "scrolled": true
   },
   "outputs": [],
   "source": [
    "#Wrote the function that recursively calls the power function and multiplies the x with accumulator until power reaches 1. \n",
    "#As soon as it reaches 1 it returns the accumulator because the value of produvt is \n",
    "#being stored in the accumulator as it progresses with multiplying x with it.\n",
    "\n",
    "def power(x , n, acc):\n",
    "    if n < 1:\n",
    "        return acc\n",
    "    if x == 0 and n == 0:\n",
    "        return 1\n",
    "    \n",
    "    acc = acc * x\n",
    "    return power(x, n-1, acc)\n",
    "    "
   ]
  },
  {
   "cell_type": "markdown",
   "metadata": {},
   "source": [
    "## Solution for exercise 3"
   ]
  },
  {
   "cell_type": "code",
   "execution_count": null,
   "metadata": {},
   "outputs": [],
   "source": [
    "    \n",
    "def powerH(x,n):\n",
    "    if n == 0:\n",
    "        return 1\n",
    "    if n == 1:\n",
    "        return x\n",
    "    if(n%2 == 0):\n",
    "        return powerH(x**2,n//2)\n",
    "    if(n%2 != 0):\n",
    "        return powerH(x**2, n//2)*x"
   ]
  },
  {
   "cell_type": "markdown",
   "metadata": {},
   "source": [
    "## Solution for exercise 4"
   ]
  },
  {
   "cell_type": "code",
   "execution_count": null,
   "metadata": {},
   "outputs": [],
   "source": [
    "def C(n,k):\n",
    "    if k == 0:\n",
    "        return 1\n",
    "    if n == k:\n",
    "        return 1\n",
    "    if n > k > 0:\n",
    "        return C(n-1 , k) + C(n-1, k-1)"
   ]
  }
 ],
 "metadata": {
  "kernelspec": {
   "display_name": "Python 3",
   "language": "python",
   "name": "python3"
  },
  "language_info": {
   "codemirror_mode": {
    "name": "ipython",
    "version": 3
   },
   "file_extension": ".py",
   "mimetype": "text/x-python",
   "name": "python",
   "nbconvert_exporter": "python",
   "pygments_lexer": "ipython3",
   "version": "3.7.3"
  },
  "latex_envs": {
   "LaTeX_envs_menu_present": true,
   "autoclose": false,
   "autocomplete": true,
   "bibliofile": "biblio.bib",
   "cite_by": "apalike",
   "current_citInitial": 1,
   "eqLabelWithNumbers": true,
   "eqNumInitial": 1,
   "hotkeys": {
    "equation": "Ctrl-E",
    "itemize": "Ctrl-I"
   },
   "labels_anchors": false,
   "latex_user_defs": false,
   "report_style_numbering": false,
   "user_envs_cfg": false
  }
 },
 "nbformat": 4,
 "nbformat_minor": 2
}
