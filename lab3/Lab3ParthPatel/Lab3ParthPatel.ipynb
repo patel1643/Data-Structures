{
 "cells": [
  {
   "cell_type": "markdown",
   "metadata": {},
   "source": [
    "# CPS305 Fall 2019\n",
    "## Lab $03$ Report\n",
    "## Parth Patel, Std ID 500893723\n",
    "\n",
    "26 Sept 2019\n",
    "\n",
    "# Introduction and Overall Comments\n",
    "\n",
    "This is the submission of Parth Patel."
   ]
  },
  {
   "cell_type": "markdown",
   "metadata": {},
   "source": [
    "## Solution for exercise 1"
   ]
  },
  {
   "cell_type": "code",
   "execution_count": 6,
   "metadata": {},
   "outputs": [
    {
     "name": "stdout",
     "output_type": "stream",
     "text": [
      "2 2 + ! 4 + 2 - 8 + \n",
      "Evaluates to:  34\n"
     ]
    }
   ],
   "source": [
    "#Implementation of Stack data structure\n",
    "class Stack:\n",
    "    def __init__(self):\n",
    "        self.items = []\n",
    "\n",
    "    def isEmpty(self):\n",
    "        return self.items == []\n",
    "\n",
    "    def push(self, item):\n",
    "        self.items.append(item)\n",
    "\n",
    "    def pop(self):\n",
    "        return self.items.pop()\n",
    "\n",
    "    def peek(self):\n",
    "        return self.items[len(self.items)-1]\n",
    "\n",
    "    def size(self):\n",
    "        return len(self.items)\n",
    "\n",
    "\n",
    "\n",
    "# Main function that converts from infix to postfix and returns the postfix \n",
    "# expression as a string and evaluates the postfix expression to a value and returns it\n",
    "\n",
    "def infixToPostfixEval(infixexpr):\n",
    "    prec = {}\n",
    "    prec[\"!\"] = 3\n",
    "    prec[\"/\"] = 3\n",
    "    prec[\"*\"] = 3\n",
    "    prec[\"+\"] = 2\n",
    "    prec[\"-\"] = 2\n",
    "    prec[\"(\"] = 1\n",
    "    \n",
    "    operandStack = Stack()\n",
    "    \n",
    "    postfixList = []\n",
    "    \n",
    "    tokenList = infixexpr.split()\n",
    "    \n",
    "    operandStack = Stack()\n",
    "    \n",
    "    for token in tokenList:\n",
    "        if token in \"0123456789\":\n",
    "            postfixList.append(token)\n",
    "        elif token == '(':\n",
    "            operandStack.push(token)\n",
    "        elif token == ')':\n",
    "            topToken = operandStack.pop()\n",
    "            while topToken != '(':\n",
    "                postfixList.append(topToken)\n",
    "                topToken = operandStack.pop()\n",
    "        else:\n",
    "            while(not operandStack.isEmpty()) and (prec[operandStack.peek()] >= prec[token]):\n",
    "                  postfixList.append(operandStack.pop())\n",
    "            operandStack.push(token)\n",
    "\n",
    "    while not operandStack.isEmpty():\n",
    "        postfixList.append(operandStack.pop())\n",
    "    \n",
    "    postFixString =  \" \".join(postfixList)\n",
    "    \n",
    "    tokenList = postFixString.split()\n",
    "\n",
    "    for token in tokenList:\n",
    "        if token in \"0123456789\":\n",
    "            operandStack.push(int(token))\n",
    "        elif token == \"!\":\n",
    "            n = operandStack.pop()\n",
    "            operandStack.push(factorial(n))\n",
    "        else:\n",
    "            operand2 = operandStack.pop()\n",
    "            operand1 = operandStack.pop()\n",
    "            result = doMath(token,operand1,operand2)\n",
    "            operandStack.push(result)\n",
    "    return (postFixString,operandStack.pop())\n",
    "\n",
    "\n",
    "\n",
    "#Helper method 1\n",
    "\n",
    "def doMath(op, op1, op2):\n",
    "    if op == \"*\":\n",
    "        return op1 * op2\n",
    "    elif op == \"/\":\n",
    "        return op1 / op2\n",
    "    elif op == \"+\":\n",
    "        return op1 + op2\n",
    "    else:\n",
    "        return op1 - op2\n",
    "\n",
    "    \n",
    "#Helper method 2\n",
    "\n",
    "def factorial(n):\n",
    "    fact = 1   \n",
    "    for i in range(1,n+1): \n",
    "        fact = fact * i\n",
    "    return fact\n",
    "\n",
    "# x,y = infixToPostfixEval('( 2 + 2 ) ! + 4 - 2 + 8')\n",
    "# print(x, \"\\nEvaluates to: \", y)"
   ]
  },
  {
   "cell_type": "markdown",
   "metadata": {},
   "source": [
    "**Discussion of the Results**\n",
    "\n",
    "I used help from the textbook to kind of get the idea of how the function would work. I made a few changes so that any equation with unary factorial('!') can work. I used two helper methods to do math. First one is doMath(op, op1, op2) that adds,subtracts,divides and multiplies the operands op1 and op2 depending on the type of symbol it detects as op. Second method I used is factorial(n) that returns the factorial of n."
   ]
  }
 ],
 "metadata": {
  "kernelspec": {
   "display_name": "Python 3",
   "language": "python",
   "name": "python3"
  },
  "language_info": {
   "codemirror_mode": {
    "name": "ipython",
    "version": 3
   },
   "file_extension": ".py",
   "mimetype": "text/x-python",
   "name": "python",
   "nbconvert_exporter": "python",
   "pygments_lexer": "ipython3",
   "version": "3.7.3"
  },
  "latex_envs": {
   "LaTeX_envs_menu_present": true,
   "autoclose": false,
   "autocomplete": true,
   "bibliofile": "biblio.bib",
   "cite_by": "apalike",
   "current_citInitial": 1,
   "eqLabelWithNumbers": true,
   "eqNumInitial": 1,
   "hotkeys": {
    "equation": "Ctrl-E",
    "itemize": "Ctrl-I"
   },
   "labels_anchors": false,
   "latex_user_defs": false,
   "report_style_numbering": false,
   "user_envs_cfg": false
  }
 },
 "nbformat": 4,
 "nbformat_minor": 2
}
